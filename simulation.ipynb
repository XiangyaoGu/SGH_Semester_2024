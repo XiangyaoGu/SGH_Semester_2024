{
 "cells": [
  {
   "cell_type": "code",
   "execution_count": 1,
   "metadata": {},
   "outputs": [],
   "source": [
    "import pandas as pd\n",
    "import json\n",
    "from kafka import KafkaProducer, KafkaConsumer\n",
    "import random"
   ]
  },
  {
   "cell_type": "code",
   "execution_count": 2,
   "metadata": {},
   "outputs": [],
   "source": [
    "df = pd.read_csv('creditCard.csv').sort_values(by='unix_time')\n",
    "df.head(10)\n",
    "\n",
    "# df = df.drop(columns= 'Unnamed: 0')\n",
    "df.columns = ['id', 'category', 'amt', 'gender', 'city', 'state', 'city_pop',\n",
    "       'job', 'unix_time']\n",
    "sampled_df = df.sample(n=5000).sort_values(by='unix_time')\n",
    "# sampled_df"
   ]
  },
  {
   "cell_type": "code",
   "execution_count": 6,
   "metadata": {},
   "outputs": [
    {
     "name": "stdout",
     "output_type": "stream",
     "text": [
      "Defaulting to user installation because normal site-packages is not writeable\n",
      "Collecting us\n",
      "  Downloading us-3.1.1.tar.gz (14 kB)\n",
      "Collecting jellyfish==0.11.2\n",
      "  Downloading jellyfish-0.11.2-cp39-cp39-macosx_11_0_arm64.whl (323 kB)\n",
      "\u001b[K     |████████████████████████████████| 323 kB 1.9 MB/s eta 0:00:01\n",
      "\u001b[?25hBuilding wheels for collected packages: us\n",
      "  Building wheel for us (setup.py) ... \u001b[?25ldone\n",
      "\u001b[?25h  Created wheel for us: filename=us-3.1.1-py3-none-any.whl size=12554 sha256=38b11f9ba9770e3ea911f9cbf371d12a81cdd460069a4db9695031ab623bf16e\n",
      "  Stored in directory: /Users/mac/Library/Caches/pip/wheels/29/9e/92/3672525fc19ac574d668402d739c8e8ff4650012304d2f3f06\n",
      "Successfully built us\n",
      "Installing collected packages: jellyfish, us\n",
      "\u001b[33m  WARNING: The script states is installed in '/Users/mac/Library/Python/3.9/bin' which is not on PATH.\n",
      "  Consider adding this directory to PATH or, if you prefer to suppress this warning, use --no-warn-script-location.\u001b[0m\n",
      "Successfully installed jellyfish-0.11.2 us-3.1.1\n",
      "\u001b[33mWARNING: You are using pip version 21.2.4; however, version 24.0 is available.\n",
      "You should consider upgrading via the '/Library/Developer/CommandLineTools/usr/bin/python3 -m pip install --upgrade pip' command.\u001b[0m\n",
      "Note: you may need to restart the kernel to use updated packages.\n"
     ]
    }
   ],
   "source": [
    "pip install us"
   ]
  },
  {
   "cell_type": "code",
   "execution_count": 5,
   "metadata": {},
   "outputs": [],
   "source": [
    "import us\n",
    "state_full_names = {state.abbr: state.name for state in us.states.STATES}\n",
    "df['state'] = df['state'].replace(state_full_names)"
   ]
  },
  {
   "cell_type": "code",
   "execution_count": 3,
   "metadata": {},
   "outputs": [
    {
     "data": {
      "text/plain": [
       "Index(['id', 'category', 'amt', 'gender', 'city', 'state', 'city_pop', 'job',\n",
       "       'unix_time'],\n",
       "      dtype='object')"
      ]
     },
     "execution_count": 3,
     "metadata": {},
     "output_type": "execute_result"
    }
   ],
   "source": [
    "df.columns"
   ]
  },
  {
   "cell_type": "code",
   "execution_count": 14,
   "metadata": {},
   "outputs": [
    {
     "name": "stdout",
     "output_type": "stream",
     "text": [
      "Created topic transaction.\n",
      "WARNING: Due to limitations in metric names, topics with a period ('.') or underscore ('_') could collide. To avoid issues it is best to use either, but not both.\n",
      "Created topic analyszed_trans.\n"
     ]
    }
   ],
   "source": [
    "!kafka-topics --bootstrap-server localhost:9092 --delete --topic transaction\n",
    "!kafka-topics --bootstrap-server localhost:9092 --delete --topic 'analyszed_trans'\n",
    "!kafka-topics --create --bootstrap-server localhost:9092 --replication-factor 1 --partitions 1 --topic transaction\n",
    "!kafka-topics --create --bootstrap-server localhost:9092 --replication-factor 1 --partitions 1 --topic 'analyszed_trans'\n",
    "!rm -rf stat/*.jpg"
   ]
  },
  {
   "cell_type": "code",
   "execution_count": 12,
   "metadata": {},
   "outputs": [
    {
     "data": {
      "text/plain": [
       "(1048575, 9)"
      ]
     },
     "execution_count": 12,
     "metadata": {},
     "output_type": "execute_result"
    }
   ],
   "source": [
    "df.shape"
   ]
  },
  {
   "cell_type": "code",
   "execution_count": 15,
   "metadata": {},
   "outputs": [
    {
     "ename": "KeyboardInterrupt",
     "evalue": "",
     "output_type": "error",
     "traceback": [
      "\u001b[0;31m---------------------------------------------------------------------------\u001b[0m",
      "\u001b[0;31mKeyboardInterrupt\u001b[0m                         Traceback (most recent call last)",
      "Cell \u001b[0;32mIn[15], line 29\u001b[0m\n\u001b[1;32m     27\u001b[0m         \u001b[39mpass\u001b[39;00m\n\u001b[1;32m     28\u001b[0m         \u001b[39m# print(\"sleep seconds\", seconds / simulation_speed)\u001b[39;00m\n\u001b[0;32m---> 29\u001b[0m     time\u001b[39m.\u001b[39;49msleep(seconds \u001b[39m/\u001b[39;49m simulation_speed)\n\u001b[1;32m     30\u001b[0m     last_time \u001b[39m=\u001b[39m message_time\n\u001b[1;32m     31\u001b[0m \u001b[39melse\u001b[39;00m:\n",
      "\u001b[0;31mKeyboardInterrupt\u001b[0m: "
     ]
    }
   ],
   "source": [
    "import time\n",
    "import datetime\n",
    "# 发送数据到Kafka\n",
    "# 初始化Kafka生产者\n",
    "producer = KafkaProducer(\n",
    "    bootstrap_servers=['localhost:9092'],\n",
    "    value_serializer=lambda v: json.dumps(v).encode('utf-8')\n",
    ")\n",
    "\n",
    "last_time = None\n",
    "# simulation_speed = (3600 * 24) * 10\n",
    "simulation_speed = 60 * 30\n",
    "\n",
    "# df_simulation = df.sample(frac=0.001, random_state=42).sort_values(by=\"unix_time\")\n",
    "\n",
    "# for index, row in sampled_df.iloc[0:1000].iterrows():\n",
    "# for index, row in df.iloc[0:1000].iterrows():\n",
    "for index, row in df.iterrows():\n",
    "    message = row.to_dict()\n",
    "    message_time = datetime.datetime.fromtimestamp(message[\"unix_time\"])\n",
    "\n",
    "    if last_time is not None:\n",
    "        seconds = (message_time-last_time).total_seconds()\n",
    "        # print(\"seconds\", seconds)\n",
    "\n",
    "        if index < 100:\n",
    "            pass\n",
    "            # print(\"sleep seconds\", seconds / simulation_speed)\n",
    "        time.sleep(seconds / simulation_speed)\n",
    "        last_time = message_time\n",
    "    else:\n",
    "        last_time = message_time\n",
    "\n",
    "    # print(message)\n",
    "    producer.send('transaction', value=message)\n",
    "\n",
    "    # 刷新生产者\n",
    "    producer.flush()\n",
    "\n",
    "    # time.sleep(0.5)"
   ]
  },
  {
   "cell_type": "code",
   "execution_count": 30,
   "metadata": {},
   "outputs": [],
   "source": [
    "last_time"
   ]
  },
  {
   "cell_type": "code",
   "execution_count": 22,
   "metadata": {},
   "outputs": [
    {
     "data": {
      "text/plain": [
       "243014"
      ]
     },
     "execution_count": 22,
     "metadata": {},
     "output_type": "execute_result"
    }
   ],
   "source": [
    "(1343952644 - 1343709630)"
   ]
  },
  {
   "cell_type": "code",
   "execution_count": 23,
   "metadata": {},
   "outputs": [
    {
     "data": {
      "text/plain": [
       "datetime.timedelta(days=2, seconds=70214)"
      ]
     },
     "execution_count": 23,
     "metadata": {},
     "output_type": "execute_result"
    }
   ],
   "source": [
    "import datetime\n",
    "datetime.timedelta(seconds=243014)"
   ]
  },
  {
   "cell_type": "code",
   "execution_count": 24,
   "metadata": {},
   "outputs": [
    {
     "data": {
      "text/plain": [
       "datetime.datetime(2012, 7, 31, 6, 40, 30)"
      ]
     },
     "execution_count": 24,
     "metadata": {},
     "output_type": "execute_result"
    }
   ],
   "source": [
    "datetime.datetime.fromtimestamp(1343709630)"
   ]
  },
  {
   "cell_type": "code",
   "execution_count": 55,
   "metadata": {},
   "outputs": [],
   "source": []
  },
  {
   "cell_type": "code",
   "execution_count": 13,
   "metadata": {},
   "outputs": [],
   "source": [
    "def scoring_card():\n",
    "    return random.random()"
   ]
  }
 ],
 "metadata": {
  "kernelspec": {
   "display_name": "Python 3.9.6 64-bit",
   "language": "python",
   "name": "python3"
  },
  "language_info": {
   "codemirror_mode": {
    "name": "ipython",
    "version": 3
   },
   "file_extension": ".py",
   "mimetype": "text/x-python",
   "name": "python",
   "nbconvert_exporter": "python",
   "pygments_lexer": "ipython3",
   "version": "3.9.6"
  },
  "orig_nbformat": 4,
  "vscode": {
   "interpreter": {
    "hash": "31f2aee4e71d21fbe5cf8b01ff0e069b9275f58929596ceb00d14d90e3e16cd6"
   }
  }
 },
 "nbformat": 4,
 "nbformat_minor": 2
}
